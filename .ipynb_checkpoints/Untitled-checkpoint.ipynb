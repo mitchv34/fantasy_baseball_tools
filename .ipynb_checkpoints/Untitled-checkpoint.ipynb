{
 "cells": [
  {
   "cell_type": "code",
   "execution_count": 1,
   "id": "67e60fa3-a390-499b-9b99-ac330ae47dce",
   "metadata": {},
   "outputs": [],
   "source": [
    "import pandas as pd"
   ]
  },
  {
   "cell_type": "code",
   "execution_count": 2,
   "id": "12dee76a-e1d4-49e6-89c8-911ee74bef8d",
   "metadata": {},
   "outputs": [],
   "source": [
    " names = [\"steamer\", \"depthcharts\", \"razzball\", \"ATC\", \"thebat\", \"ZiPS\"]"
   ]
  },
  {
   "cell_type": "code",
   "execution_count": 3,
   "id": "06700f19-6374-41f0-911c-27e6cee9b69e",
   "metadata": {},
   "outputs": [],
   "source": [
    "n = names[1]"
   ]
  },
  {
   "cell_type": "code",
   "execution_count": null,
   "id": "29d306a9-4901-4797-8055-330f2a61bc88",
   "metadata": {},
   "outputs": [],
   "source": [
    "bats = pd.read_csv(\"./data/proc/{}_bats.csv\".format(n)).set_index(\"playerid\")[[\"POINTS\"]]\n",
    "pitch = pd.read_csv(\"./data/proc/{}_pitch.csv\".format(n)).set_index(\"playerid\")[[\"POINTS\"]]"
   ]
  },
  {
   "cell_type": "code",
   "execution_count": null,
   "id": "13c1b063-928b-40df-96f0-db405ae8b75e",
   "metadata": {},
   "outputs": [],
   "source": [
    "bats"
   ]
  },
  {
   "cell_type": "code",
   "execution_count": null,
   "id": "90737780-c253-4cda-88cb-baae246c7f67",
   "metadata": {},
   "outputs": [],
   "source": []
  }
 ],
 "metadata": {
  "kernelspec": {
   "display_name": "Python 3",
   "language": "python",
   "name": "python3"
  },
  "language_info": {
   "codemirror_mode": {
    "name": "ipython",
    "version": 3
   },
   "file_extension": ".py",
   "mimetype": "text/x-python",
   "name": "python",
   "nbconvert_exporter": "python",
   "pygments_lexer": "ipython3",
   "version": "3.8.8"
  }
 },
 "nbformat": 4,
 "nbformat_minor": 5
}
