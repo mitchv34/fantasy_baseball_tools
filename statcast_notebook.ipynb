{
 "cells": [
  {
   "cell_type": "code",
   "execution_count": 1,
   "metadata": {},
   "outputs": [],
   "source": [
    "import pandas as pd \n",
    "import pybaseball as pb"
   ]
  },
  {
   "cell_type": "code",
   "execution_count": null,
   "metadata": {},
   "outputs": [],
   "source": [
    "verlander_id = pb.playerid_lookup('verlander', 'justin').key_mlbam.values[0]\n",
    "verlander_games = [706825]\n",
    "\n",
    "i = verlander_games[0]\n",
    "\n",
    "data = pb.statcast_single_game(i)\n",
    "data[data.pitcher == verlander_id][[\"pitch_type\", \t\"release_speed\",\t\"release_pos_x\",\t\"release_pos_z\"]]"
   ]
  },
  {
   "cell_type": "code",
   "execution_count": 5,
   "metadata": {},
   "outputs": [
    {
     "data": {
      "text/plain": [
       "\"/home/mitch34/anaconda3/bin/python\""
      ]
     },
     "metadata": {},
     "output_type": "display_data"
    }
   ],
   "source": [
    "ENV[\"PYTHON\"] = \"/home/mitch34/anaconda3/bin/python\""
   ]
  },
  {
   "cell_type": "code",
   "execution_count": 7,
   "metadata": {},
   "outputs": [
    {
     "ename": "PyCall.PyError",
     "evalue": "PyCall.PyError(\"PyImport_ImportModule\\n\\nThe Python package pandas could not be imported by pyimport. Usually this means\\nthat you did not install pandas in the Python version being used by PyCall.\\n\\nPyCall is currently configured to use the Python version at:\\n\\n/usr/bin/python3\\n\\nand you should use whatever mechanism you usually use (apt-get, pip, conda,\\netcetera) to install the Python package containing the pandas module.\\n\\nOne alternative is to re-configure PyCall to use a different Python\\nversion on your system: set ENV[\\\"PYTHON\\\"] to the path/name of the python\\nexecutable you want to use, run Pkg.build(\\\"PyCall\\\"), and re-launch Julia.\\n\\nAnother alternative is to configure PyCall to use a Julia-specific Python\\ndistribution via the Conda.jl package (which installs a private Anaconda\\nPython distribution), which has the advantage that packages can be installed\\nand kept up-to-date via Julia.  As explained in the PyCall documentation,\\nset ENV[\\\"PYTHON\\\"]=\\\"\\\", run Pkg.build(\\\"PyCall\\\"), and re-launch Julia. Then,\\nTo install the pandas module, you can use `pyimport_conda(\\\"pandas\\\", PKG)`,\\nwhere PKG is the Anaconda package that contains the module pandas,\\nor alternatively you can use the Conda package directly (via\\n`using Conda` followed by `Conda.add` etcetera).\\n\\n\", PyObject(Ptr{PyCall.PyObject_struct} @0x00007f4da441fde0), PyObject(Ptr{PyCall.PyObject_struct} @0x00007f4da3ceaac0), PyObject(Ptr{PyCall.PyObject_struct} @0x0000000000000000))",
     "output_type": "error",
     "traceback": [
      "PyCall.PyError(\"PyImport_ImportModule\\n\\nThe Python package pandas could not be imported by pyimport. Usually this means\\nthat you did not install pandas in the Python version being used by PyCall.\\n\\nPyCall is currently configured to use the Python version at:\\n\\n/usr/bin/python3\\n\\nand you should use whatever mechanism you usually use (apt-get, pip, conda,\\netcetera) to install the Python package containing the pandas module.\\n\\nOne alternative is to re-configure PyCall to use a different Python\\nversion on your system: set ENV[\\\"PYTHON\\\"] to the path/name of the python\\nexecutable you want to use, run Pkg.build(\\\"PyCall\\\"), and re-launch Julia.\\n\\nAnother alternative is to configure PyCall to use a Julia-specific Python\\ndistribution via the Conda.jl package (which installs a private Anaconda\\nPython distribution), which has the advantage that packages can be installed\\nand kept up-to-date via Julia.  As explained in the PyCall documentation,\\nset ENV[\\\"PYTHON\\\"]=\\\"\\\", run Pkg.build(\\\"PyCall\\\"), and re-launch Julia. Then,\\nTo install the pandas module, you can use `pyimport_conda(\\\"pandas\\\", PKG)`,\\nwhere PKG is the Anaconda package that contains the module pandas,\\nor alternatively you can use the Conda package directly (via\\n`using Conda` followed by `Conda.add` etcetera).\\n\\n\", PyObject(Ptr{PyCall.PyObject_struct} @0x00007f4da441fde0), PyObject(Ptr{PyCall.PyObject_struct} @0x00007f4da3ceaac0), PyObject(Ptr{PyCall.PyObject_struct} @0x0000000000000000))\n",
      "\n",
      "Stacktrace:\n",
      "  [1] pyimport(name::String)\n",
      "    @ PyCall ~/.julia/packages/PyCall/L0fLP/src/PyCall.jl:550\n",
      "  [2] top-level scope\n",
      "    @ ~/Work/fantasy_baseball_tools/statcast_notebook.ipynb:2\n",
      "  [3] eval\n",
      "    @ ./boot.jl:360 [inlined]\n",
      "  [4] include_string(mapexpr::typeof(REPL.softscope), mod::Module, code::String, filename::String)\n",
      "    @ Base ./loading.jl:1116\n",
      "  [5] #invokelatest#2\n",
      "    @ ./essentials.jl:708 [inlined]\n",
      "  [6] invokelatest\n",
      "    @ ./essentials.jl:706 [inlined]\n",
      "  [7] (::VSCodeServer.var\"#154#155\"{VSCodeServer.NotebookRunCellArguments, String})()\n",
      "    @ VSCodeServer ~/.vscode/extensions/julialang.language-julia-1.6.3/scripts/packages/VSCodeServer/src/serve_notebook.jl:18\n",
      "  [8] withpath(f::VSCodeServer.var\"#154#155\"{VSCodeServer.NotebookRunCellArguments, String}, path::String)\n",
      "    @ VSCodeServer ~/.vscode/extensions/julialang.language-julia-1.6.3/scripts/packages/VSCodeServer/src/repl.jl:184\n",
      "  [9] notebook_runcell_request(conn::VSCodeServer.JSONRPC.JSONRPCEndpoint{Base.PipeEndpoint, Base.PipeEndpoint}, params::VSCodeServer.NotebookRunCellArguments)\n",
      "    @ VSCodeServer ~/.vscode/extensions/julialang.language-julia-1.6.3/scripts/packages/VSCodeServer/src/serve_notebook.jl:14\n",
      " [10] dispatch_msg(x::VSCodeServer.JSONRPC.JSONRPCEndpoint{Base.PipeEndpoint, Base.PipeEndpoint}, dispatcher::VSCodeServer.JSONRPC.MsgDispatcher, msg::Dict{String, Any})\n",
      "    @ VSCodeServer.JSONRPC ~/.vscode/extensions/julialang.language-julia-1.6.3/scripts/packages/JSONRPC/src/typed.jl:67\n",
      " [11] serve_notebook(pipename::String; crashreporting_pipename::String)\n",
      "    @ VSCodeServer ~/.vscode/extensions/julialang.language-julia-1.6.3/scripts/packages/VSCodeServer/src/serve_notebook.jl:95\n",
      " [12] top-level scope\n",
      "    @ ~/.vscode/extensions/julialang.language-julia-1.6.3/scripts/notebook/notebook.jl:14\n",
      " [13] include(mod::Module, _path::String)\n",
      "    @ Base ./Base.jl:384\n",
      " [14] exec_options(opts::Base.JLOptions)\n",
      "    @ Base ./client.jl:285\n",
      " [15] _start()\n",
      "    @ Base ./client.jl:485"
     ]
    }
   ],
   "source": [
    "using PyCall, DataFrames, Plots, StatsPlots\n",
    "pd = pyimport(\"pandas\") \n",
    "# pb = pyimport(\"pybaseball\")\n"
   ]
  },
  {
   "cell_type": "code",
   "execution_count": null,
   "metadata": {},
   "outputs": [],
   "source": []
  }
 ],
 "metadata": {
  "interpreter": {
   "hash": "25ba7b2fce11290ff058c342a2e5c4e405c72fe334204cebd2d9f7aaf9db2ad5"
  },
  "kernelspec": {
   "display_name": "Julia 1.6.4",
   "language": "julia",
   "name": "julia-1.6"
  },
  "language_info": {
   "file_extension": ".jl",
   "mimetype": "application/julia",
   "name": "julia",
   "version": "1.6.4"
  },
  "orig_nbformat": 4
 },
 "nbformat": 4,
 "nbformat_minor": 2
}
