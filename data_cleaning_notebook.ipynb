{
 "cells": [
  {
   "cell_type": "code",
   "execution_count": 1,
   "metadata": {},
   "outputs": [],
   "source": [
    "# Load libraries\n",
    "import pandas as pd\n",
    "import numpy as np\n",
    "import pre_process_script as pp"
   ]
  },
  {
   "cell_type": "code",
   "execution_count": 2,
   "metadata": {},
   "outputs": [],
   "source": [
    "pp.add_fg_id()"
   ]
  },
  {
   "cell_type": "code",
   "execution_count": 3,
   "metadata": {},
   "outputs": [
    {
     "name": "stdout",
     "output_type": "stream",
     "text": [
      "razzball failed\n"
     ]
    }
   ],
   "source": [
    "names = [\"steamer\", \"depthcharts\", \"razzball\", \"ATC\", \"thebat\", \"ZiPS\"]\n",
    "\n",
    "for n in names:\n",
    "    try:\n",
    "        pp.pre_process_bat(n)\n",
    "        pp.pre_process_pitch(n)\n",
    "    except:\n",
    "        print(\"{} failed\".format(n))"
   ]
  }
 ],
 "metadata": {
  "kernelspec": {
   "display_name": "Python 3",
   "language": "python",
   "name": "python3"
  },
  "language_info": {
   "codemirror_mode": {
    "name": "ipython",
    "version": 3
   },
   "file_extension": ".py",
   "mimetype": "text/x-python",
   "name": "python",
   "nbconvert_exporter": "python",
   "pygments_lexer": "ipython3",
   "version": "3.9.12 (main, Apr  5 2022, 01:53:17) \n[Clang 12.0.0 ]"
  },
  "orig_nbformat": 4,
  "vscode": {
   "interpreter": {
    "hash": "de646aab0595845e8d09d34fa419006c7de495af96ff06dcb28aeec45cdce086"
   }
  }
 },
 "nbformat": 4,
 "nbformat_minor": 2
}
