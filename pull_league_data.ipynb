{
 "cells": [
  {
   "cell_type": "code",
   "execution_count": 1,
   "metadata": {},
   "outputs": [],
   "source": [
    "# import packages to make API calls\n",
    "import requests\n",
    "import io\n",
    "import pandas as pd\n",
    "import numpy as np\n"
   ]
  },
  {
   "cell_type": "code",
   "execution_count": 19,
   "metadata": {},
   "outputs": [
    {
     "data": {
      "text/plain": [
       "{'pageError': {'onScreen': False,\n",
       "  'code': 'WARNING_NOT_LOGGED_IN',\n",
       "  'text': 'Sorry, you must be logged in to perform that action. You can click <a href=\"/login\" class=\"defaultLink\">here</a> to login now, or if you\\'re not a member yet, click <a href=\"/register\" class=\"defaultLink\">here</a> to register FREE.',\n",
       "  'forceReload': False}}"
      ]
     },
     "execution_count": 19,
     "metadata": {},
     "output_type": "execute_result"
    }
   ],
   "source": [
    "# Set the URL for the API call \n",
    "url = \"https://www.fantrax.com/fxpa/downloadPlayerStats?leagueId=rvs3p5k8lacksf72&pageNumber=1&view=STATS&positionOrGroup=ALL&seasonOrProjection=SEASON_141_YEAR_TO_DATE&timeframeTypeCode=YEAR_TO_DATE&transactionPeriod=2&miscDisplayType=1&sortType=SCORE&maxResultsPerPage=20&statusOrTeamFilter=ALL&scoringCategoryType=5&timeStartType=PERIOD_ONLY&schedulePageAdj=0&searchName=&datePlaying=ALL&startDate=2023-03-30&endDate=2023-04-12&teamId=u66qusc2lacksf7t&&ngsw-bypass\"\n",
    "\n",
    "# Set the headers and cookies\n",
    "headers = {'User-Agent': 'Mozilla/5.0'}\n",
    "cookies = {'auth_token': 'b58e6a4c-01fa-4bc8-9505-25029740e122'}\n",
    "\n",
    "# Make the API call with authentication information\n",
    "response = requests.get(url, headers=headers, cookies=cookies)\n",
    "\n",
    "# Check the status code and response content\n",
    "if response.status_code == 200:\n",
    "    data = response.json()  # convert the response to JSON format\n",
    "    # process the data as needed\n",
    "else:\n",
    "    print('Error: API call failed with status code', response.status_code)\n",
    "\n",
    "data"
   ]
  },
  {
   "cell_type": "code",
   "execution_count": 17,
   "metadata": {},
   "outputs": [],
   "source": [
    "import requests\n",
    "\n",
    "# log in to the website and retrieve the session ID cookie\n",
    "login_url = \"https://www.fantrax.com/login\"\n",
    "payload = {\"username\": \"miche.v.b@gmail.com\", \"password\": \"lalenin\"}\n",
    "session = requests.session()\n",
    "session.post(login_url, data=payload)\n",
    "jsessionid = session.cookies.get(\"JSESSIONID\")\n",
    "\n",
    "# use the session ID cookie to make API requests\n",
    "api_url = url\n",
    "headers = {'User-Agent': 'Mozilla/5.0', \"Authorization\": \"Bearer \" + jsessionid}\n",
    "response = session.get(api_url, headers=headers)\n"
   ]
  },
  {
   "cell_type": "code",
   "execution_count": 18,
   "metadata": {},
   "outputs": [
    {
     "data": {
      "text/plain": [
       "{'pageError': {'onScreen': False,\n",
       "  'code': 'WARNING_NOT_LOGGED_IN',\n",
       "  'text': 'Sorry, you must be logged in to perform that action. You can click <a href=\"/login\" class=\"defaultLink\">here</a> to login now, or if you\\'re not a member yet, click <a href=\"/register\" class=\"defaultLink\">here</a> to register FREE.',\n",
       "  'forceReload': False}}"
      ]
     },
     "execution_count": 18,
     "metadata": {},
     "output_type": "execute_result"
    }
   ],
   "source": [
    "response.json()"
   ]
  },
  {
   "cell_type": "code",
   "execution_count": null,
   "metadata": {},
   "outputs": [],
   "source": []
  }
 ],
 "metadata": {
  "kernelspec": {
   "display_name": "Python 3",
   "language": "python",
   "name": "python3"
  },
  "language_info": {
   "codemirror_mode": {
    "name": "ipython",
    "version": 3
   },
   "file_extension": ".py",
   "mimetype": "text/x-python",
   "name": "python",
   "nbconvert_exporter": "python",
   "pygments_lexer": "ipython3",
   "version": "3.9.12"
  },
  "orig_nbformat": 4
 },
 "nbformat": 4,
 "nbformat_minor": 2
}
